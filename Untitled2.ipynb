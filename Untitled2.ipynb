{
  "nbformat": 4,
  "nbformat_minor": 0,
  "metadata": {
    "colab": {
      "provenance": []
    },
    "kernelspec": {
      "name": "python3",
      "display_name": "Python 3"
    },
    "language_info": {
      "name": "python"
    }
  },
  "cells": [
    {
      "cell_type": "code",
      "execution_count": 2,
      "metadata": {
        "id": "v6XGxJph7HJU"
      },
      "outputs": [],
      "source": [
        "import pandas as pd\n",
        "import matplotlib.pyplot as plt\n",
        "\n",
        "data = {\n",
        "    'month': ['Jan', 'Feb', 'Mar', 'Apr', 'May', 'Jun', 'Jul', 'Aug', 'Sep', 'Oct', 'Nov', 'Dec'],\n",
        "    'news_sold': [2800, 3100, 2900, 3300, 3400, 2500, 2700, 3600, 3900, 2200, 3000, 4100]\n",
        "}\n",
        "\n",
        "df = pd.DataFrame(data)\n",
        "\n"
      ]
    },
    {
      "cell_type": "code",
      "source": [
        "# 1. Create a bar chart using matplotlib to compare news sold\n",
        "plt.bar(df['month'], df['news_sold'], color='skyblue')\n",
        "plt.title(\"Monthly News Sold\")\n",
        "plt.xlabel(\"Month\")\n",
        "plt.ylabel(\"News Sold\")\n",
        "plt.xticks(rotation=45)\n",
        "plt.grid(axis='y')\n",
        "plt.show()\n"
      ],
      "metadata": {
        "colab": {
          "base_uri": "https://localhost:8080/",
          "height": 488
        },
        "id": "3jaqZg257eGV",
        "outputId": "680b9290-6dfb-4c16-df95-1486f322c838"
      },
      "execution_count": 3,
      "outputs": [
        {
          "output_type": "display_data",
          "data": {
            "text/plain": [
              "<Figure size 640x480 with 1 Axes>"
            ],
            "image/png": "[encoded data removed]"
          },
          "metadata": {}
        }
      ]
    },
    {
      "cell_type": "code",
      "source": [
        "#2. Add percentage_change column (month-to-month % change)\n",
        "df['percentage_change'] = df['news_sold'].pct_change() * 100\n",
        "print(df)\n",
        "\n"
      ],
      "metadata": {
        "colab": {
          "base_uri": "https://localhost:8080/"
        },
        "id": "_8s03alD7hYt",
        "outputId": "172b9001-ce18-4d5f-cf3b-d062488d70e3"
      },
      "execution_count": 9,
      "outputs": [
        {
          "output_type": "stream",
          "name": "stdout",
          "text": [
            "   month  news_sold  percentage_change quarter\n",
            "0    Jan       2800                NaN      Q1\n",
            "1    Feb       3100          10.714286      Q1\n",
            "2    Mar       2900          -6.451613      Q1\n",
            "3    Apr       3300          13.793103      Q2\n",
            "4    May       3400           3.030303      Q2\n",
            "5    Jun       2500         -26.470588      Q2\n",
            "6    Jul       2700           8.000000      Q3\n",
            "7    Aug       3600          33.333333      Q3\n",
            "8    Sep       3900           8.333333      Q3\n",
            "9    Oct       2200         -43.589744      Q4\n",
            "10   Nov       3000          36.363636      Q4\n",
            "11   Dec       4100          36.666667      Q4\n"
          ]
        }
      ]
    },
    {
      "cell_type": "code",
      "source": [
        "#3.Filter and display only months where news_sold < 2000\n",
        "\n",
        "low_sales = df[df['news_sold'] < 2000]\n",
        "print(\"Months with news sold < 2000:\")\n",
        "print(low_sales)\n"
      ],
      "metadata": {
        "colab": {
          "base_uri": "https://localhost:8080/"
        },
        "id": "3D4gc1e07kkS",
        "outputId": "16038629-eb35-4fc1-de24-078661c275f8"
      },
      "execution_count": 10,
      "outputs": [
        {
          "output_type": "stream",
          "name": "stdout",
          "text": [
            "Months with news sold < 2000:\n",
            "Empty DataFrame\n",
            "Columns: [month, news_sold, percentage_change, quarter]\n",
            "Index: []\n"
          ]
        }
      ]
    },
    {
      "cell_type": "code",
      "source": [
        "#4. Group months into quarters (Q1, Q2, Q3, Q4) and calculate total sales per quarter\n",
        "quarter_map = {\n",
        "    'Jan': 'Q1', 'Feb': 'Q1', 'Mar': 'Q1',\n",
        "    'Apr': 'Q2', 'May': 'Q2', 'Jun': 'Q2',\n",
        "    'Jul': 'Q3', 'Aug': 'Q3', 'Sep': 'Q3',\n",
        "    'Oct': 'Q4', 'Nov': 'Q4', 'Dec': 'Q4'\n",
        "}\n",
        "\n",
        "df['quarter'] = df['month'].map(quarter_map)\n",
        "\n",
        "# Group by quarter and calculate total news_sold\n",
        "quarterly_sales = df.groupby('quarter')['news_sold'].sum()\n",
        "print(\"Total sales by quarter:\")\n",
        "print(quarterly_sales)\n"
      ],
      "metadata": {
        "colab": {
          "base_uri": "https://localhost:8080/"
        },
        "id": "os60Ctyk7nsH",
        "outputId": "66f6c93c-6b36-4777-f290-7ebef4890c7e"
      },
      "execution_count": 6,
      "outputs": [
        {
          "output_type": "stream",
          "name": "stdout",
          "text": [
            "Total sales by quarter:\n",
            "quarter\n",
            "Q1     8800\n",
            "Q2     9200\n",
            "Q3    10200\n",
            "Q4     9300\n",
            "Name: news_sold, dtype: int64\n"
          ]
        }
      ]
    },
    {
      "cell_type": "code",
      "source": [
        "# 5. Save months with above-average sales into new CS\n",
        "average_sales = df['news_sold'].mean()\n",
        "above_avg_df = df[df['news_sold'] > average_sales]\n",
        "\n",
        "# Save to CSV\n",
        "above_avg_df.to_csv('above_average_news_sales.csv', index=False)\n",
        "\n",
        "# Display to confirm\n",
        "print(\"Above-average months:\")\n",
        "print(above_avg_df)\n"
      ],
      "metadata": {
        "colab": {
          "base_uri": "https://localhost:8080/"
        },
        "id": "kcaO9xSM7sb9",
        "outputId": "935a3256-673d-4f86-b5f1-d2d2375dab94"
      },
      "execution_count": 11,
      "outputs": [
        {
          "output_type": "stream",
          "name": "stdout",
          "text": [
            "Above-average months:\n",
            "   month  news_sold  percentage_change quarter\n",
            "3    Apr       3300          13.793103      Q2\n",
            "4    May       3400           3.030303      Q2\n",
            "7    Aug       3600          33.333333      Q3\n",
            "8    Sep       3900           8.333333      Q3\n",
            "11   Dec       4100          36.666667      Q4\n"
          ]
        }
      ]
    }
  ]
}